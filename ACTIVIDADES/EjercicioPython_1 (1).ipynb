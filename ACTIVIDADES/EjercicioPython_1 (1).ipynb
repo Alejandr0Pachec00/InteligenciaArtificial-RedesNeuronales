{
  "nbformat": 4,
  "nbformat_minor": 0,
  "metadata": {
    "colab": {
      "provenance": []
    },
    "kernelspec": {
      "name": "python3",
      "display_name": "Python 3"
    },
    "language_info": {
      "name": "python"
    }
  },
  "cells": [
    {
      "cell_type": "markdown",
      "source": [
        "TAREA 2\n",
        "Alejandro Guadalupe Pacheco Cisneros\n",
        "1992222 IMTC N4\n"
      ],
      "metadata": {
        "id": "l6WgbR1Ubfrp"
      }
    },
    {
      "cell_type": "markdown",
      "source": [
        "PUNTO 1"
      ],
      "metadata": {
        "id": "51KQg_KWbrmM"
      }
    },
    {
      "cell_type": "markdown",
      "source": [
        "Ejemplo con Nombre diferente a ANA, JUAN, PEDRO.\n"
      ],
      "metadata": {
        "id": "pMiw8Qe61JGp"
      }
    },
    {
      "cell_type": "code",
      "execution_count": 4,
      "metadata": {
        "colab": {
          "base_uri": "https://localhost:8080/"
        },
        "id": "ahDBMIiEW9ra",
        "outputId": "e0fb0af5-62df-439f-c72d-29a0bab075df"
      },
      "outputs": [
        {
          "output_type": "stream",
          "name": "stdout",
          "text": [
            "Por favor, introduce tu nombre: Alejandro\n",
            "Hola Alejandro! Bienvenido.\n"
          ]
        }
      ],
      "source": [
        "def saludar():\n",
        "    nombre = input(\"Por favor, introduce tu nombre: \")\n",
        "    nombre = nombre.lower()  # Convertimos el nombre a minúsculas para hacer la comparación más fácil\n",
        "\n",
        "    if nombre in [\"ana\", \"juan\", \"pedro\"]:\n",
        "        print(\"Hola!.\")\n",
        "    else:\n",
        "        print(f\"Hola {nombre.capitalize()}! Bienvenido.\")\n",
        "\n",
        "saludar()\n"
      ]
    },
    {
      "cell_type": "markdown",
      "source": [
        "Ejemplo con Nombre Juan.\n"
      ],
      "metadata": {
        "id": "B98B8SHy1aF5"
      }
    },
    {
      "cell_type": "code",
      "source": [
        "def saludar():\n",
        "    nombre = input(\"Por favor, introduce tu nombre: \")\n",
        "    nombre = nombre.lower()  # Convertimos el nombre a minúsculas para hacer la comparación más fácil\n",
        "\n",
        "    if nombre in [\"ana\", \"juan\", \"pedro\"]:\n",
        "        print(\"Hola!.\")\n",
        "    else:\n",
        "        print(f\"Hola {nombre.capitalize()}! Bienvenido.\")\n",
        "\n",
        "saludar()"
      ],
      "metadata": {
        "colab": {
          "base_uri": "https://localhost:8080/"
        },
        "id": "4W4pLiTq0_2Z",
        "outputId": "e2cd7138-07c3-43c7-a498-006ab893fe4c"
      },
      "execution_count": 1,
      "outputs": [
        {
          "output_type": "stream",
          "name": "stdout",
          "text": [
            "Por favor, introduce tu nombre: Juan\n",
            "Hola!.\n"
          ]
        }
      ]
    },
    {
      "cell_type": "markdown",
      "source": [
        "PUNTO 2\n"
      ],
      "metadata": {
        "id": "Ee4Q_w23bUOJ"
      }
    },
    {
      "cell_type": "code",
      "source": [
        "def invertir_lista():\n",
        "    # Solicitar al usuario que ingrese una lista de N elementos\n",
        "    lista = []\n",
        "    print(\"Por favor, introduce 5 Equipos de la liga MX de mejor a peor separados por un espacio:\")\n",
        "    entrada = input().split()[:5]  # Tomamos solo los primeros 5 elementos\n",
        "\n",
        "    # Convertir entrada a una lista\n",
        "    for elemento in entrada:\n",
        "        lista.append(elemento)\n",
        "\n",
        "    # Invertir\n",
        "    lista.reverse()\n",
        "\n",
        "    return lista\n",
        "\n",
        "lista_invertida = invertir_lista()\n",
        "print(\"Los mejores equipos son:\", lista_invertida)"
      ],
      "metadata": {
        "colab": {
          "base_uri": "https://localhost:8080/"
        },
        "id": "CIlZQ47HXgT_",
        "outputId": "dbebfaff-61ea-4fc9-8470-3d922d9314ec"
      },
      "execution_count": 7,
      "outputs": [
        {
          "output_type": "stream",
          "name": "stdout",
          "text": [
            "Por favor, introduce 5 Equipos de la liga MX de mejor a peor separados por un espacio:\n",
            "Tigres Chivas America Pumas Rayados\n",
            "Los mejores equipos son: ['Rayados', 'Pumas', 'America', 'Chivas', 'Tigres']\n"
          ]
        }
      ]
    },
    {
      "cell_type": "markdown",
      "source": [
        "PUNTO 3\n"
      ],
      "metadata": {
        "id": "oikNSUSxa0Yj"
      }
    },
    {
      "cell_type": "markdown",
      "source": [
        "Introducionedo un valor correcto.\n"
      ],
      "metadata": {
        "id": "8CLMxHcxa-Jb"
      }
    },
    {
      "cell_type": "code",
      "source": [
        "def fibonacci(n):\n",
        "    fib_sequence = []\n",
        "    a, b = 0, 1\n",
        "    for _ in range(n):\n",
        "        fib_sequence.append(a)\n",
        "        a, b = b, a + b\n",
        "    return fib_sequence\n",
        "\n",
        "def main():\n",
        "    try:\n",
        "        cantidad = int(input(\"¿Cuántos números de la serie de Fibonacci generaré? \"))\n",
        "        if cantidad <= 0:\n",
        "            print(\"Introduce un número mayor que cero.\")\n",
        "            return\n",
        "        fib_nums = fibonacci(cantidad)\n",
        "        print(\"La serie de Fibonacci con\", cantidad, \"números es:\")\n",
        "        print(fib_nums)\n",
        "    except ValueError:\n",
        "        print(\"Introduce un número entero válidooo.\")\n",
        "\n",
        "if __name__ == \"__main__\":\n",
        "    main()\n"
      ],
      "metadata": {
        "colab": {
          "base_uri": "https://localhost:8080/"
        },
        "id": "2cauk5cNaZnC",
        "outputId": "ec215b83-211b-4d7f-a164-0944af69c252"
      },
      "execution_count": 10,
      "outputs": [
        {
          "output_type": "stream",
          "name": "stdout",
          "text": [
            "¿Cuántos números de la serie de Fibonacci generaré? 18\n",
            "La serie de Fibonacci con 18 números es:\n",
            "[0, 1, 1, 2, 3, 5, 8, 13, 21, 34, 55, 89, 144, 233, 377, 610, 987, 1597]\n"
          ]
        }
      ]
    },
    {
      "cell_type": "markdown",
      "source": [
        "Introduciendo un valor incorrecto"
      ],
      "metadata": {
        "id": "R8vuyGNDbFwd"
      }
    },
    {
      "cell_type": "code",
      "source": [
        "def fibonacci(n):\n",
        "    fib_sequence = []\n",
        "    a, b = 0, 1\n",
        "    for _ in range(n):\n",
        "        fib_sequence.append(a)\n",
        "        a, b = b, a + b\n",
        "    return fib_sequence\n",
        "\n",
        "def main():\n",
        "    try:\n",
        "        cantidad = int(input(\"¿Cuántos números de la serie de Fibonacci generaré? \"))\n",
        "        if cantidad <= 0:\n",
        "            print(\"Introduce un número mayor que cero.\")\n",
        "            return\n",
        "        fib_nums = fibonacci(cantidad)\n",
        "        print(\"La serie de Fibonacci con\", cantidad, \"números es:\")\n",
        "        print(fib_nums)\n",
        "    except ValueError:\n",
        "        print(\"Introduce un número entero válidooo.\")\n",
        "\n",
        "if __name__ == \"__main__\":\n",
        "    main()\n"
      ],
      "metadata": {
        "colab": {
          "base_uri": "https://localhost:8080/"
        },
        "id": "vrGN9z28as4x",
        "outputId": "145d96d7-9edc-433a-fe66-be19d3967c75"
      },
      "execution_count": 11,
      "outputs": [
        {
          "output_type": "stream",
          "name": "stdout",
          "text": [
            "¿Cuántos números de la serie de Fibonacci generaré? vegeta\n",
            "Introduce un número entero válidooo.\n"
          ]
        }
      ]
    },
    {
      "cell_type": "markdown",
      "source": [
        "PUNTO 4\n"
      ],
      "metadata": {
        "id": "9-sDYuoNbM9x"
      }
    },
    {
      "cell_type": "code",
      "source": [
        "import random\n",
        "\n",
        "def adivinar_numero():\n",
        "    numero_objetivo = random.randint(0, 100)\n",
        "    intentos = 0\n",
        "\n",
        "    print(\"¡ADIVINA EL NUMERO!\")\n",
        "    print(\"En que numero estoy pensando? (entre 0 y 100).\")\n",
        "\n",
        "    while True:\n",
        "        intento_str = input(\"En cual numero estoy pensando?: \")\n",
        "\n",
        "        if not intento_str.isdigit():\n",
        "            print(\"Por favor, introduce un NUMEROO VALIDOO entre 0 y 100.\")\n",
        "            continue\n",
        "\n",
        "        intento = int(intento_str)\n",
        "\n",
        "        if intento < 0 or intento > 100:\n",
        "            print(\"Por favor, introduce un NUMEROO VALIDOO entre 0 y 100.\")\n",
        "            continue\n",
        "\n",
        "        if intento < numero_objetivo:\n",
        "            print(\"El número secreto es mayor.\")\n",
        "        elif intento > numero_objetivo:\n",
        "            print(\"El número secreto es menor.\")\n",
        "        else:\n",
        "            print(f\"Felicidades, ¡adivinaste el número en el que pensaba {numero_objetivo} en solo {intentos} intentos!\")\n",
        "            break\n",
        "\n",
        "        intentos += 1\n",
        "\n",
        "adivinar_numero()\n"
      ],
      "metadata": {
        "colab": {
          "base_uri": "https://localhost:8080/"
        },
        "id": "-Z25LZ8_eUeW",
        "outputId": "e75df815-42c4-4006-d43f-e14dd42abaf5"
      },
      "execution_count": 21,
      "outputs": [
        {
          "output_type": "stream",
          "name": "stdout",
          "text": [
            "¡ADIVINA EL NUMERO!\n",
            "En que numero estoy pensando? (entre 0 y 100).\n",
            "En cual numero estoy pensando?: 50\n",
            "El número secreto es mayor.\n",
            "En cual numero estoy pensando?: 75\n",
            "El número secreto es menor.\n",
            "En cual numero estoy pensando?: 70\n",
            "El número secreto es menor.\n",
            "En cual numero estoy pensando?: 60\n",
            "El número secreto es menor.\n",
            "En cual numero estoy pensando?: 55\n",
            "El número secreto es mayor.\n",
            "En cual numero estoy pensando?: 57\n",
            "El número secreto es mayor.\n",
            "En cual numero estoy pensando?: 59\n",
            "El número secreto es menor.\n",
            "En cual numero estoy pensando?: 58\n",
            "Felicidades, ¡adivinaste el número en el que pensaba 58 en solo 7 intentos!\n"
          ]
        }
      ]
    },
    {
      "cell_type": "markdown",
      "source": [
        "PUNTO 5"
      ],
      "metadata": {
        "id": "aqlBvIlXhXuD"
      }
    },
    {
      "cell_type": "code",
      "source": [
        "def es_primo(numero):\n",
        "    if numero <= 1:\n",
        "        return False\n",
        "    for i in range(2, int(numero ** 0.5) + 1):\n",
        "        if numero % i == 0:\n",
        "            return False\n",
        "    return True\n",
        "\n",
        "def numeros_primos_en_rango(inicio, fin):\n",
        "    primos = []\n",
        "    for numero in range(inicio, fin + 1):\n",
        "        if es_primo(numero):\n",
        "            primos.append(numero)\n",
        "    return primos\n",
        "\n",
        "def main():\n",
        "    while True:\n",
        "        try:\n",
        "            inicio = int(input(\"Introduce el inicio del rango: \"))\n",
        "            fin = int(input(\"Introduce el fin del rango: \"))\n",
        "\n",
        "            if inicio >= fin:\n",
        "                print(\"El inicio del rango debe ser menor que el fin del rango.\")\n",
        "                continue\n",
        "\n",
        "            print(f\"Los números primos en el rango de {inicio} a {fin} son:\")\n",
        "            primos = numeros_primos_en_rango(inicio, fin)\n",
        "            print(primos)\n",
        "            break\n",
        "        except ValueError:\n",
        "            print(\"Introduce números enteros válidos para el rango.\")\n",
        "\n",
        "if __name__ == \"__main__\":\n",
        "    main()\n"
      ],
      "metadata": {
        "colab": {
          "base_uri": "https://localhost:8080/"
        },
        "id": "CDUg_4Z6gwhn",
        "outputId": "7f72d2a3-0ba1-4a2e-d663-cebff80c0a35"
      },
      "execution_count": 23,
      "outputs": [
        {
          "output_type": "stream",
          "name": "stdout",
          "text": [
            "Introduce el inicio del rango: pan \n",
            "Introduce números enteros válidos para el rango.\n",
            "Introduce el inicio del rango: 0\n",
            "Introduce el fin del rango: 100\n",
            "Los números primos en el rango de 0 a 100 son:\n",
            "[2, 3, 5, 7, 11, 13, 17, 19, 23, 29, 31, 37, 41, 43, 47, 53, 59, 61, 67, 71, 73, 79, 83, 89, 97]\n"
          ]
        }
      ]
    },
    {
      "cell_type": "markdown",
      "source": [
        "PUNTO 6"
      ],
      "metadata": {
        "id": "J_z9cqvgh6Za"
      }
    },
    {
      "cell_type": "code",
      "source": [
        "def suma(a, b):\n",
        "    return a + b\n",
        "\n",
        "def resta(a, b):\n",
        "    return a - b\n",
        "\n",
        "def multiplicacion(a, b):\n",
        "    return a * b\n",
        "\n",
        "def division(a, b):\n",
        "    if b == 0:\n",
        "        return \"No se puede dividir por cero.\"\n",
        "    else:\n",
        "        return a / b\n",
        "\n",
        "def main():\n",
        "    try:\n",
        "        num1 = float(input(\"Introduce el primer número: \"))\n",
        "        num2 = float(input(\"Introduce el segundo número: \"))\n",
        "\n",
        "        print(\"Suma:\", suma(num1, num2))\n",
        "        print(\"Resta:\", resta(num1, num2))\n",
        "        print(\"Multiplicación:\", multiplicacion(num1, num2))\n",
        "        print(\"División:\", division(num1, num2))\n",
        "    except ValueError:\n",
        "        print(\"Por favor, introduce números válidos.\")\n",
        "\n",
        "if __name__ == \"__main__\":\n",
        "    main()\n"
      ],
      "metadata": {
        "colab": {
          "base_uri": "https://localhost:8080/"
        },
        "id": "5u0YgyyBh4-k",
        "outputId": "1f4c3fc9-9232-44ab-9ba6-ba2f271b0705"
      },
      "execution_count": 24,
      "outputs": [
        {
          "output_type": "stream",
          "name": "stdout",
          "text": [
            "Introduce el primer número: 100\n",
            "Introduce el segundo número: 10\n",
            "Suma: 110.0\n",
            "Resta: 90.0\n",
            "Multiplicación: 1000.0\n",
            "División: 10.0\n"
          ]
        }
      ]
    }
  ]
}